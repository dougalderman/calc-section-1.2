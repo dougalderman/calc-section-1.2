{
 "cells": [
  {
   "cell_type": "code",
   "execution_count": 1,
   "metadata": {
    "collapsed": false
   },
   "outputs": [
    {
     "name": "stdout",
     "output_type": "stream",
     "text": [
      "verbose 0 (3839: plot.py, generate_plot_points) WARNING: When plotting, failed to evaluate function at 50 points.\n"
     ]
    },
    {
     "name": "stdout",
     "output_type": "stream",
     "text": [
      "verbose 0 (3839: plot.py, generate_plot_points) Last error message: 'math domain error'\n"
     ]
    },
    {
     "data": {
      "image/png": "[encoded data removed]",
      "text/plain": [
       "Graphics object consisting of 1 graphics primitive"
      ]
     },
     "execution_count": 1,
     "metadata": {
     },
     "output_type": "execute_result"
    }
   ],
   "source": [
    "plot((sqrt(1+x)-1)/x, (x, -2, 2))"
   ]
  },
  {
   "cell_type": "code",
   "execution_count": 10,
   "metadata": {
    "collapsed": false
   },
   "outputs": [
    {
     "data": {
      "text/html": [
       "<div class=\"notruncate\">\n",
       "<table  class=\"table_form\">\n",
       "<tbody>\n",
       "<tr class =\"row-a\">\n",
       "<td><script type=\"math/tex\">-2.00000000000000</script></td>\n",
       "<td><script type=\"math/tex\">0.50 - 0.50i</script></td>\n",
       "</tr>\n",
       "<tr class =\"row-b\">\n",
       "<td><script type=\"math/tex\">-1.90000000000000</script></td>\n",
       "<td><script type=\"math/tex\">0.53 - 0.50i</script></td>\n",
       "</tr>\n",
       "<tr class =\"row-a\">\n",
       "<td><script type=\"math/tex\">-1.80000000000000</script></td>\n",
       "<td><script type=\"math/tex\">0.56 - 0.50i</script></td>\n",
       "</tr>\n",
       "<tr class =\"row-b\">\n",
       "<td><script type=\"math/tex\">-1.70000000000000</script></td>\n",
       "<td><script type=\"math/tex\">0.59 - 0.49i</script></td>\n",
       "</tr>\n",
       "<tr class =\"row-a\">\n",
       "<td><script type=\"math/tex\">-1.60000000000000</script></td>\n",
       "<td><script type=\"math/tex\">0.62 - 0.48i</script></td>\n",
       "</tr>\n",
       "<tr class =\"row-b\">\n",
       "<td><script type=\"math/tex\">-1.50000000000000</script></td>\n",
       "<td><script type=\"math/tex\">0.67 - 0.47i</script></td>\n",
       "</tr>\n",
       "<tr class =\"row-a\">\n",
       "<td><script type=\"math/tex\">-1.40000000000000</script></td>\n",
       "<td><script type=\"math/tex\">0.71 - 0.45i</script></td>\n",
       "</tr>\n",
       "<tr class =\"row-b\">\n",
       "<td><script type=\"math/tex\">-1.30000000000000</script></td>\n",
       "<td><script type=\"math/tex\">0.77 - 0.42i</script></td>\n",
       "</tr>\n",
       "<tr class =\"row-a\">\n",
       "<td><script type=\"math/tex\">-1.20000000000000</script></td>\n",
       "<td><script type=\"math/tex\">0.83 - 0.37i</script></td>\n",
       "</tr>\n",
       "<tr class =\"row-b\">\n",
       "<td><script type=\"math/tex\">-1.10000000000000</script></td>\n",
       "<td><script type=\"math/tex\">0.91 - 0.29i</script></td>\n",
       "</tr>\n",
       "<tr class =\"row-a\">\n",
       "<td><script type=\"math/tex\">-0.999999999999999</script></td>\n",
       "<td><script type=\"math/tex\">1.0</script></td>\n",
       "</tr>\n",
       "<tr class =\"row-b\">\n",
       "<td><script type=\"math/tex\">-0.899999999999999</script></td>\n",
       "<td><script type=\"math/tex\">0.76</script></td>\n",
       "</tr>\n",
       "<tr class =\"row-a\">\n",
       "<td><script type=\"math/tex\">-0.799999999999999</script></td>\n",
       "<td><script type=\"math/tex\">0.69</script></td>\n",
       "</tr>\n",
       "<tr class =\"row-b\">\n",
       "<td><script type=\"math/tex\">-0.699999999999999</script></td>\n",
       "<td><script type=\"math/tex\">0.65</script></td>\n",
       "</tr>\n",
       "<tr class =\"row-a\">\n",
       "<td><script type=\"math/tex\">-0.599999999999999</script></td>\n",
       "<td><script type=\"math/tex\">0.61</script></td>\n",
       "</tr>\n",
       "<tr class =\"row-b\">\n",
       "<td><script type=\"math/tex\">-0.499999999999999</script></td>\n",
       "<td><script type=\"math/tex\">0.59</script></td>\n",
       "</tr>\n",
       "<tr class =\"row-a\">\n",
       "<td><script type=\"math/tex\">-0.399999999999999</script></td>\n",
       "<td><script type=\"math/tex\">0.56</script></td>\n",
       "</tr>\n",
       "<tr class =\"row-b\">\n",
       "<td><script type=\"math/tex\">-0.299999999999999</script></td>\n",
       "<td><script type=\"math/tex\">0.54</script></td>\n",
       "</tr>\n",
       "<tr class =\"row-a\">\n",
       "<td><script type=\"math/tex\">-0.199999999999999</script></td>\n",
       "<td><script type=\"math/tex\">0.53</script></td>\n",
       "</tr>\n",
       "<tr class =\"row-b\">\n",
       "<td><script type=\"math/tex\">-0.0999999999999994</script></td>\n",
       "<td><script type=\"math/tex\">0.51</script></td>\n",
       "</tr>\n",
       "<tr class =\"row-a\">\n",
       "<td><script type=\"math/tex\">6.38378239159465 \\times 10^{-16}</script></td>\n",
       "<td><script type=\"math/tex\">0.35</script></td>\n",
       "</tr>\n",
       "<tr class =\"row-b\">\n",
       "<td><script type=\"math/tex\">0.100000000000001</script></td>\n",
       "<td><script type=\"math/tex\">0.49</script></td>\n",
       "</tr>\n",
       "<tr class =\"row-a\">\n",
       "<td><script type=\"math/tex\">0.200000000000001</script></td>\n",
       "<td><script type=\"math/tex\">0.48</script></td>\n",
       "</tr>\n",
       "<tr class =\"row-b\">\n",
       "<td><script type=\"math/tex\">0.300000000000001</script></td>\n",
       "<td><script type=\"math/tex\">0.47</script></td>\n",
       "</tr>\n",
       "<tr class =\"row-a\">\n",
       "<td><script type=\"math/tex\">0.400000000000001</script></td>\n",
       "<td><script type=\"math/tex\">0.46</script></td>\n",
       "</tr>\n",
       "<tr class =\"row-b\">\n",
       "<td><script type=\"math/tex\">0.500000000000001</script></td>\n",
       "<td><script type=\"math/tex\">0.45</script></td>\n",
       "</tr>\n",
       "<tr class =\"row-a\">\n",
       "<td><script type=\"math/tex\">0.600000000000001</script></td>\n",
       "<td><script type=\"math/tex\">0.44</script></td>\n",
       "</tr>\n",
       "<tr class =\"row-b\">\n",
       "<td><script type=\"math/tex\">0.700000000000001</script></td>\n",
       "<td><script type=\"math/tex\">0.43</script></td>\n",
       "</tr>\n",
       "<tr class =\"row-a\">\n",
       "<td><script type=\"math/tex\">0.800000000000001</script></td>\n",
       "<td><script type=\"math/tex\">0.43</script></td>\n",
       "</tr>\n",
       "<tr class =\"row-b\">\n",
       "<td><script type=\"math/tex\">0.900000000000001</script></td>\n",
       "<td><script type=\"math/tex\">0.42</script></td>\n",
       "</tr>\n",
       "<tr class =\"row-a\">\n",
       "<td><script type=\"math/tex\">1.00000000000000</script></td>\n",
       "<td><script type=\"math/tex\">0.41</script></td>\n",
       "</tr>\n",
       "<tr class =\"row-b\">\n",
       "<td><script type=\"math/tex\">1.10000000000000</script></td>\n",
       "<td><script type=\"math/tex\">0.41</script></td>\n",
       "</tr>\n",
       "<tr class =\"row-a\">\n",
       "<td><script type=\"math/tex\">1.20000000000000</script></td>\n",
       "<td><script type=\"math/tex\">0.40</script></td>\n",
       "</tr>\n",
       "<tr class =\"row-b\">\n",
       "<td><script type=\"math/tex\">1.30000000000000</script></td>\n",
       "<td><script type=\"math/tex\">0.40</script></td>\n",
       "</tr>\n",
       "<tr class =\"row-a\">\n",
       "<td><script type=\"math/tex\">1.40000000000000</script></td>\n",
       "<td><script type=\"math/tex\">0.39</script></td>\n",
       "</tr>\n",
       "<tr class =\"row-b\">\n",
       "<td><script type=\"math/tex\">1.50000000000000</script></td>\n",
       "<td><script type=\"math/tex\">0.39</script></td>\n",
       "</tr>\n",
       "<tr class =\"row-a\">\n",
       "<td><script type=\"math/tex\">1.60000000000000</script></td>\n",
       "<td><script type=\"math/tex\">0.38</script></td>\n",
       "</tr>\n",
       "<tr class =\"row-b\">\n",
       "<td><script type=\"math/tex\">1.70000000000000</script></td>\n",
       "<td><script type=\"math/tex\">0.38</script></td>\n",
       "</tr>\n",
       "<tr class =\"row-a\">\n",
       "<td><script type=\"math/tex\">1.80000000000000</script></td>\n",
       "<td><script type=\"math/tex\">0.37</script></td>\n",
       "</tr>\n",
       "<tr class =\"row-b\">\n",
       "<td><script type=\"math/tex\">1.90000000000000</script></td>\n",
       "<td><script type=\"math/tex\">0.37</script></td>\n",
       "</tr>\n",
       "<tr class =\"row-a\">\n",
       "<td><script type=\"math/tex\">2.00000000000000</script></td>\n",
       "<td><script type=\"math/tex\">0.37</script></td>\n",
       "</tr>\n",
       "</tbody>\n",
       "</table>\n",
       "</div>"
      ],
      "text/plain": [
       "  -2.00000000000000      0.50 - 0.50*I\n",
       "  -1.90000000000000      0.53 - 0.50*I\n",
       "  -1.80000000000000      0.56 - 0.50*I\n",
       "  -1.70000000000000      0.59 - 0.49*I\n",
       "  -1.60000000000000      0.62 - 0.48*I\n",
       "  -1.50000000000000      0.67 - 0.47*I\n",
       "  -1.40000000000000      0.71 - 0.45*I\n",
       "  -1.30000000000000      0.77 - 0.42*I\n",
       "  -1.20000000000000      0.83 - 0.37*I\n",
       "  -1.10000000000000      0.91 - 0.29*I\n",
       "  -0.999999999999999     1.0\n",
       "  -0.899999999999999     0.76\n",
       "  -0.799999999999999     0.69\n",
       "  -0.699999999999999     0.65\n",
       "  -0.599999999999999     0.61\n",
       "  -0.499999999999999     0.59\n",
       "  -0.399999999999999     0.56\n",
       "  -0.299999999999999     0.54\n",
       "  -0.199999999999999     0.53\n",
       "  -0.0999999999999994    0.51\n",
       "  6.38378239159465e-16   0.35\n",
       "  0.100000000000001      0.49\n",
       "  0.200000000000001      0.48\n",
       "  0.300000000000001      0.47\n",
       "  0.400000000000001      0.46\n",
       "  0.500000000000001      0.45\n",
       "  0.600000000000001      0.44\n",
       "  0.700000000000001      0.43\n",
       "  0.800000000000001      0.43\n",
       "  0.900000000000001      0.42\n",
       "  1.00000000000000       0.41\n",
       "  1.10000000000000       0.41\n",
       "  1.20000000000000       0.40\n",
       "  1.30000000000000       0.40\n",
       "  1.40000000000000       0.39\n",
       "  1.50000000000000       0.39\n",
       "  1.60000000000000       0.38\n",
       "  1.70000000000000       0.38\n",
       "  1.80000000000000       0.37\n",
       "  1.90000000000000       0.37\n",
       "  2.00000000000000       0.37"
      ]
     },
     "execution_count": 10,
     "metadata": {
     },
     "output_type": "execute_result"
    }
   ],
   "source": [
    "table([(x,n((sqrt(1+x)-1)/x, digits=2)) for x in [-2..2, step=.1]])"
   ]
  },
  {
   "cell_type": "code",
   "execution_count": 2,
   "metadata": {
    "collapsed": false
   },
   "outputs": [
    {
     "name": "stdout",
     "output_type": "stream",
     "text": [
      "verbose 0 (3839: plot.py, generate_plot_points) WARNING: When plotting, failed to evaluate function at 100 points.\n"
     ]
    },
    {
     "name": "stdout",
     "output_type": "stream",
     "text": [
      "verbose 0 (3839: plot.py, generate_plot_points) Last error message: 'math domain error'\n"
     ]
    },
    {
     "data": {
      "image/png": "[encoded data removed]",
      "text/plain": [
       "Graphics object consisting of 1 graphics primitive"
      ]
     },
     "execution_count": 2,
     "metadata": {
     },
     "output_type": "execute_result"
    }
   ],
   "source": [
    "plot((sqrt(1+x)-1)/x, (x, -2, -0.01))"
   ]
  },
  {
   "cell_type": "code",
   "execution_count": 3,
   "metadata": {
    "collapsed": false
   },
   "outputs": [
    {
     "data": {
      "image/png": "[encoded data removed]",
      "text/plain": [
       "Graphics object consisting of 1 graphics primitive"
      ]
     },
     "execution_count": 3,
     "metadata": {
     },
     "output_type": "execute_result"
    }
   ],
   "source": [
    "plot((sqrt(1+x)-1)/x, (x, 0.01, 2))"
   ]
  },
  {
   "cell_type": "code",
   "execution_count": 5,
   "metadata": {
    "collapsed": false
   },
   "outputs": [
    {
     "data": {
      "image/png": "[encoded data removed]",
      "text/plain": [
       "Graphics object consisting of 1 graphics primitive"
      ]
     },
     "execution_count": 5,
     "metadata": {
     },
     "output_type": "execute_result"
    }
   ],
   "source": [
    "plot((x^2-4)/(sqrt(x^2+5)-3), (x, -5, 0))"
   ]
  },
  {
   "cell_type": "code",
   "execution_count": 19,
   "metadata": {
    "collapsed": false
   },
   "outputs": [
    {
     "data": {
      "text/html": [
       "<div class=\"notruncate\">\n",
       "<table  class=\"table_form\">\n",
       "<tbody>\n",
       "<tr class =\"row-a\">\n",
       "<td><script type=\"math/tex\">-5.00000000000000</script></td>\n",
       "<td><script type=\"math/tex\">8.5</script></td>\n",
       "</tr>\n",
       "<tr class =\"row-b\">\n",
       "<td><script type=\"math/tex\">-4.90000000000000</script></td>\n",
       "<td><script type=\"math/tex\">8.4</script></td>\n",
       "</tr>\n",
       "<tr class =\"row-a\">\n",
       "<td><script type=\"math/tex\">-4.80000000000000</script></td>\n",
       "<td><script type=\"math/tex\">8.3</script></td>\n",
       "</tr>\n",
       "<tr class =\"row-b\">\n",
       "<td><script type=\"math/tex\">-4.70000000000000</script></td>\n",
       "<td><script type=\"math/tex\">8.2</script></td>\n",
       "</tr>\n",
       "<tr class =\"row-a\">\n",
       "<td><script type=\"math/tex\">-4.60000000000000</script></td>\n",
       "<td><script type=\"math/tex\">8.1</script></td>\n",
       "</tr>\n",
       "<tr class =\"row-b\">\n",
       "<td><script type=\"math/tex\">-4.50000000000000</script></td>\n",
       "<td><script type=\"math/tex\">8.0</script></td>\n",
       "</tr>\n",
       "<tr class =\"row-a\">\n",
       "<td><script type=\"math/tex\">-4.40000000000000</script></td>\n",
       "<td><script type=\"math/tex\">7.9</script></td>\n",
       "</tr>\n",
       "<tr class =\"row-b\">\n",
       "<td><script type=\"math/tex\">-4.30000000000000</script></td>\n",
       "<td><script type=\"math/tex\">7.8</script></td>\n",
       "</tr>\n",
       "<tr class =\"row-a\">\n",
       "<td><script type=\"math/tex\">-4.20000000000000</script></td>\n",
       "<td><script type=\"math/tex\">7.8</script></td>\n",
       "</tr>\n",
       "<tr class =\"row-b\">\n",
       "<td><script type=\"math/tex\">-4.10000000000000</script></td>\n",
       "<td><script type=\"math/tex\">7.7</script></td>\n",
       "</tr>\n",
       "<tr class =\"row-a\">\n",
       "<td><script type=\"math/tex\">-4.00000000000000</script></td>\n",
       "<td><script type=\"math/tex\">7.6</script></td>\n",
       "</tr>\n",
       "<tr class =\"row-b\">\n",
       "<td><script type=\"math/tex\">-3.90000000000000</script></td>\n",
       "<td><script type=\"math/tex\">7.5</script></td>\n",
       "</tr>\n",
       "<tr class =\"row-a\">\n",
       "<td><script type=\"math/tex\">-3.80000000000000</script></td>\n",
       "<td><script type=\"math/tex\">7.4</script></td>\n",
       "</tr>\n",
       "<tr class =\"row-b\">\n",
       "<td><script type=\"math/tex\">-3.70000000000000</script></td>\n",
       "<td><script type=\"math/tex\">7.3</script></td>\n",
       "</tr>\n",
       "<tr class =\"row-a\">\n",
       "<td><script type=\"math/tex\">-3.60000000000000</script></td>\n",
       "<td><script type=\"math/tex\">7.2</script></td>\n",
       "</tr>\n",
       "<tr class =\"row-b\">\n",
       "<td><script type=\"math/tex\">-3.50000000000000</script></td>\n",
       "<td><script type=\"math/tex\">7.2</script></td>\n",
       "</tr>\n",
       "<tr class =\"row-a\">\n",
       "<td><script type=\"math/tex\">-3.40000000000000</script></td>\n",
       "<td><script type=\"math/tex\">7.1</script></td>\n",
       "</tr>\n",
       "<tr class =\"row-b\">\n",
       "<td><script type=\"math/tex\">-3.30000000000000</script></td>\n",
       "<td><script type=\"math/tex\">7.0</script></td>\n",
       "</tr>\n",
       "<tr class =\"row-a\">\n",
       "<td><script type=\"math/tex\">-3.20000000000000</script></td>\n",
       "<td><script type=\"math/tex\">6.9</script></td>\n",
       "</tr>\n",
       "<tr class =\"row-b\">\n",
       "<td><script type=\"math/tex\">-3.10000000000000</script></td>\n",
       "<td><script type=\"math/tex\">6.8</script></td>\n",
       "</tr>\n",
       "<tr class =\"row-a\">\n",
       "<td><script type=\"math/tex\">-3.00000000000000</script></td>\n",
       "<td><script type=\"math/tex\">6.7</script></td>\n",
       "</tr>\n",
       "<tr class =\"row-b\">\n",
       "<td><script type=\"math/tex\">-2.90000000000000</script></td>\n",
       "<td><script type=\"math/tex\">6.7</script></td>\n",
       "</tr>\n",
       "<tr class =\"row-a\">\n",
       "<td><script type=\"math/tex\">-2.80000000000000</script></td>\n",
       "<td><script type=\"math/tex\">6.6</script></td>\n",
       "</tr>\n",
       "<tr class =\"row-b\">\n",
       "<td><script type=\"math/tex\">-2.70000000000000</script></td>\n",
       "<td><script type=\"math/tex\">6.5</script></td>\n",
       "</tr>\n",
       "<tr class =\"row-a\">\n",
       "<td><script type=\"math/tex\">-2.60000000000000</script></td>\n",
       "<td><script type=\"math/tex\">6.4</script></td>\n",
       "</tr>\n",
       "<tr class =\"row-b\">\n",
       "<td><script type=\"math/tex\">-2.50000000000000</script></td>\n",
       "<td><script type=\"math/tex\">6.4</script></td>\n",
       "</tr>\n",
       "<tr class =\"row-a\">\n",
       "<td><script type=\"math/tex\">-2.40000000000000</script></td>\n",
       "<td><script type=\"math/tex\">6.3</script></td>\n",
       "</tr>\n",
       "<tr class =\"row-b\">\n",
       "<td><script type=\"math/tex\">-2.30000000000000</script></td>\n",
       "<td><script type=\"math/tex\">6.2</script></td>\n",
       "</tr>\n",
       "<tr class =\"row-a\">\n",
       "<td><script type=\"math/tex\">-2.20000000000000</script></td>\n",
       "<td><script type=\"math/tex\">6.1</script></td>\n",
       "</tr>\n",
       "<tr class =\"row-b\">\n",
       "<td><script type=\"math/tex\">-2.10000000000000</script></td>\n",
       "<td><script type=\"math/tex\">6.1</script></td>\n",
       "</tr>\n",
       "<tr class =\"row-a\">\n",
       "<td><script type=\"math/tex\">-2.00000000000000</script></td>\n",
       "<td><script type=\"math/tex\">5.3</script></td>\n",
       "</tr>\n",
       "<tr class =\"row-b\">\n",
       "<td><script type=\"math/tex\">-1.90000000000000</script></td>\n",
       "<td><script type=\"math/tex\">5.9</script></td>\n",
       "</tr>\n",
       "<tr class =\"row-a\">\n",
       "<td><script type=\"math/tex\">-1.80000000000000</script></td>\n",
       "<td><script type=\"math/tex\">5.9</script></td>\n",
       "</tr>\n",
       "<tr class =\"row-b\">\n",
       "<td><script type=\"math/tex\">-1.70000000000000</script></td>\n",
       "<td><script type=\"math/tex\">5.8</script></td>\n",
       "</tr>\n",
       "<tr class =\"row-a\">\n",
       "<td><script type=\"math/tex\">-1.60000000000000</script></td>\n",
       "<td><script type=\"math/tex\">5.8</script></td>\n",
       "</tr>\n",
       "<tr class =\"row-b\">\n",
       "<td><script type=\"math/tex\">-1.50000000000000</script></td>\n",
       "<td><script type=\"math/tex\">5.7</script></td>\n",
       "</tr>\n",
       "<tr class =\"row-a\">\n",
       "<td><script type=\"math/tex\">-1.40000000000000</script></td>\n",
       "<td><script type=\"math/tex\">5.6</script></td>\n",
       "</tr>\n",
       "<tr class =\"row-b\">\n",
       "<td><script type=\"math/tex\">-1.30000000000000</script></td>\n",
       "<td><script type=\"math/tex\">5.6</script></td>\n",
       "</tr>\n",
       "<tr class =\"row-a\">\n",
       "<td><script type=\"math/tex\">-1.20000000000000</script></td>\n",
       "<td><script type=\"math/tex\">5.5</script></td>\n",
       "</tr>\n",
       "<tr class =\"row-b\">\n",
       "<td><script type=\"math/tex\">-1.10000000000000</script></td>\n",
       "<td><script type=\"math/tex\">5.5</script></td>\n",
       "</tr>\n",
       "<tr class =\"row-a\">\n",
       "<td><script type=\"math/tex\">-1.00000000000000</script></td>\n",
       "<td><script type=\"math/tex\">5.5</script></td>\n",
       "</tr>\n",
       "<tr class =\"row-b\">\n",
       "<td><script type=\"math/tex\">-0.900000000000001</script></td>\n",
       "<td><script type=\"math/tex\">5.4</script></td>\n",
       "</tr>\n",
       "<tr class =\"row-a\">\n",
       "<td><script type=\"math/tex\">-0.800000000000001</script></td>\n",
       "<td><script type=\"math/tex\">5.4</script></td>\n",
       "</tr>\n",
       "<tr class =\"row-b\">\n",
       "<td><script type=\"math/tex\">-0.700000000000001</script></td>\n",
       "<td><script type=\"math/tex\">5.3</script></td>\n",
       "</tr>\n",
       "<tr class =\"row-a\">\n",
       "<td><script type=\"math/tex\">-0.600000000000001</script></td>\n",
       "<td><script type=\"math/tex\">5.3</script></td>\n",
       "</tr>\n",
       "<tr class =\"row-b\">\n",
       "<td><script type=\"math/tex\">-0.500000000000001</script></td>\n",
       "<td><script type=\"math/tex\">5.3</script></td>\n",
       "</tr>\n",
       "<tr class =\"row-a\">\n",
       "<td><script type=\"math/tex\">-0.400000000000001</script></td>\n",
       "<td><script type=\"math/tex\">5.3</script></td>\n",
       "</tr>\n",
       "<tr class =\"row-b\">\n",
       "<td><script type=\"math/tex\">-0.300000000000001</script></td>\n",
       "<td><script type=\"math/tex\">5.3</script></td>\n",
       "</tr>\n",
       "<tr class =\"row-a\">\n",
       "<td><script type=\"math/tex\">-0.200000000000001</script></td>\n",
       "<td><script type=\"math/tex\">5.2</script></td>\n",
       "</tr>\n",
       "<tr class =\"row-b\">\n",
       "<td><script type=\"math/tex\">-0.100000000000001</script></td>\n",
       "<td><script type=\"math/tex\">5.2</script></td>\n",
       "</tr>\n",
       "<tr class =\"row-a\">\n",
       "<td><script type=\"math/tex\">0.000000000000000</script></td>\n",
       "<td><script type=\"math/tex\">5.2</script></td>\n",
       "</tr>\n",
       "</tbody>\n",
       "</table>\n",
       "</div>"
      ],
      "text/plain": [
       "  -5.00000000000000    8.5\n",
       "  -4.90000000000000    8.4\n",
       "  -4.80000000000000    8.3\n",
       "  -4.70000000000000    8.2\n",
       "  -4.60000000000000    8.1\n",
       "  -4.50000000000000    8.0\n",
       "  -4.40000000000000    7.9\n",
       "  -4.30000000000000    7.8\n",
       "  -4.20000000000000    7.8\n",
       "  -4.10000000000000    7.7\n",
       "  -4.00000000000000    7.6\n",
       "  -3.90000000000000    7.5\n",
       "  -3.80000000000000    7.4\n",
       "  -3.70000000000000    7.3\n",
       "  -3.60000000000000    7.2\n",
       "  -3.50000000000000    7.2\n",
       "  -3.40000000000000    7.1\n",
       "  -3.30000000000000    7.0\n",
       "  -3.20000000000000    6.9\n",
       "  -3.10000000000000    6.8\n",
       "  -3.00000000000000    6.7\n",
       "  -2.90000000000000    6.7\n",
       "  -2.80000000000000    6.6\n",
       "  -2.70000000000000    6.5\n",
       "  -2.60000000000000    6.4\n",
       "  -2.50000000000000    6.4\n",
       "  -2.40000000000000    6.3\n",
       "  -2.30000000000000    6.2\n",
       "  -2.20000000000000    6.1\n",
       "  -2.10000000000000    6.1\n",
       "  -2.00000000000000    5.3\n",
       "  -1.90000000000000    5.9\n",
       "  -1.80000000000000    5.9\n",
       "  -1.70000000000000    5.8\n",
       "  -1.60000000000000    5.8\n",
       "  -1.50000000000000    5.7\n",
       "  -1.40000000000000    5.6\n",
       "  -1.30000000000000    5.6\n",
       "  -1.20000000000000    5.5\n",
       "  -1.10000000000000    5.5\n",
       "  -1.00000000000000    5.5\n",
       "  -0.900000000000001   5.4\n",
       "  -0.800000000000001   5.4\n",
       "  -0.700000000000001   5.3\n",
       "  -0.600000000000001   5.3\n",
       "  -0.500000000000001   5.3\n",
       "  -0.400000000000001   5.3\n",
       "  -0.300000000000001   5.3\n",
       "  -0.200000000000001   5.2\n",
       "  -0.100000000000001   5.2\n",
       "  0.000000000000000    5.2"
      ]
     },
     "execution_count": 19,
     "metadata": {
     },
     "output_type": "execute_result"
    }
   ],
   "source": [
    "table([(x,n((x^2-4)/(sqrt(x^2+5)-3), digits=2)) for x in [-5..0, step=.1]])"
   ]
  },
  {
   "cell_type": "code",
   "execution_count": 21,
   "metadata": {
    "collapsed": false
   },
   "outputs": [
    {
     "data": {
      "image/png": "[encoded data removed]",
      "text/plain": [
       "Graphics object consisting of 1 graphics primitive"
      ]
     },
     "execution_count": 21,
     "metadata": {
     },
     "output_type": "execute_result"
    }
   ],
   "source": [
    "plot((x-x^0.25)/(x-1), (x, 0, 2))"
   ]
  },
  {
   "cell_type": "code",
   "execution_count": 20,
   "metadata": {
    "collapsed": false
   },
   "outputs": [
    {
     "data": {
      "text/html": [
       "<div class=\"notruncate\">\n",
       "<table  class=\"table_form\">\n",
       "<tbody>\n",
       "<tr class =\"row-a\">\n",
       "<td><script type=\"math/tex\">0.000000000000000</script></td>\n",
       "<td><script type=\"math/tex\">-0.00</script></td>\n",
       "</tr>\n",
       "<tr class =\"row-b\">\n",
       "<td><script type=\"math/tex\">0.100000000000000</script></td>\n",
       "<td><script type=\"math/tex\">0.51</script></td>\n",
       "</tr>\n",
       "<tr class =\"row-a\">\n",
       "<td><script type=\"math/tex\">0.200000000000000</script></td>\n",
       "<td><script type=\"math/tex\">0.59</script></td>\n",
       "</tr>\n",
       "<tr class =\"row-b\">\n",
       "<td><script type=\"math/tex\">0.300000000000000</script></td>\n",
       "<td><script type=\"math/tex\">0.63</script></td>\n",
       "</tr>\n",
       "<tr class =\"row-a\">\n",
       "<td><script type=\"math/tex\">0.400000000000000</script></td>\n",
       "<td><script type=\"math/tex\">0.66</script></td>\n",
       "</tr>\n",
       "<tr class =\"row-b\">\n",
       "<td><script type=\"math/tex\">0.500000000000000</script></td>\n",
       "<td><script type=\"math/tex\">0.68</script></td>\n",
       "</tr>\n",
       "<tr class =\"row-a\">\n",
       "<td><script type=\"math/tex\">0.600000000000000</script></td>\n",
       "<td><script type=\"math/tex\">0.70</script></td>\n",
       "</tr>\n",
       "<tr class =\"row-b\">\n",
       "<td><script type=\"math/tex\">0.700000000000000</script></td>\n",
       "<td><script type=\"math/tex\">0.72</script></td>\n",
       "</tr>\n",
       "<tr class =\"row-a\">\n",
       "<td><script type=\"math/tex\">0.800000000000000</script></td>\n",
       "<td><script type=\"math/tex\">0.73</script></td>\n",
       "</tr>\n",
       "<tr class =\"row-b\">\n",
       "<td><script type=\"math/tex\">0.900000000000000</script></td>\n",
       "<td><script type=\"math/tex\">0.74</script></td>\n",
       "</tr>\n",
       "<tr class =\"row-a\">\n",
       "<td><script type=\"math/tex\">1.00000000000000</script></td>\n",
       "<td><script type=\"math/tex\">1.0</script></td>\n",
       "</tr>\n",
       "<tr class =\"row-b\">\n",
       "<td><script type=\"math/tex\">1.10000000000000</script></td>\n",
       "<td><script type=\"math/tex\">0.76</script></td>\n",
       "</tr>\n",
       "<tr class =\"row-a\">\n",
       "<td><script type=\"math/tex\">1.20000000000000</script></td>\n",
       "<td><script type=\"math/tex\">0.77</script></td>\n",
       "</tr>\n",
       "<tr class =\"row-b\">\n",
       "<td><script type=\"math/tex\">1.30000000000000</script></td>\n",
       "<td><script type=\"math/tex\">0.77</script></td>\n",
       "</tr>\n",
       "<tr class =\"row-a\">\n",
       "<td><script type=\"math/tex\">1.40000000000000</script></td>\n",
       "<td><script type=\"math/tex\">0.78</script></td>\n",
       "</tr>\n",
       "<tr class =\"row-b\">\n",
       "<td><script type=\"math/tex\">1.50000000000000</script></td>\n",
       "<td><script type=\"math/tex\">0.79</script></td>\n",
       "</tr>\n",
       "<tr class =\"row-a\">\n",
       "<td><script type=\"math/tex\">1.60000000000000</script></td>\n",
       "<td><script type=\"math/tex\">0.79</script></td>\n",
       "</tr>\n",
       "<tr class =\"row-b\">\n",
       "<td><script type=\"math/tex\">1.70000000000000</script></td>\n",
       "<td><script type=\"math/tex\">0.80</script></td>\n",
       "</tr>\n",
       "<tr class =\"row-a\">\n",
       "<td><script type=\"math/tex\">1.80000000000000</script></td>\n",
       "<td><script type=\"math/tex\">0.80</script></td>\n",
       "</tr>\n",
       "<tr class =\"row-b\">\n",
       "<td><script type=\"math/tex\">1.90000000000000</script></td>\n",
       "<td><script type=\"math/tex\">0.81</script></td>\n",
       "</tr>\n",
       "<tr class =\"row-a\">\n",
       "<td><script type=\"math/tex\">2.00000000000000</script></td>\n",
       "<td><script type=\"math/tex\">0.81</script></td>\n",
       "</tr>\n",
       "</tbody>\n",
       "</table>\n",
       "</div>"
      ],
      "text/plain": [
       "  0.000000000000000   -0.00\n",
       "  0.100000000000000   0.51\n",
       "  0.200000000000000   0.59\n",
       "  0.300000000000000   0.63\n",
       "  0.400000000000000   0.66\n",
       "  0.500000000000000   0.68\n",
       "  0.600000000000000   0.70\n",
       "  0.700000000000000   0.72\n",
       "  0.800000000000000   0.73\n",
       "  0.900000000000000   0.74\n",
       "  1.00000000000000    1.0\n",
       "  1.10000000000000    0.76\n",
       "  1.20000000000000    0.77\n",
       "  1.30000000000000    0.77\n",
       "  1.40000000000000    0.78\n",
       "  1.50000000000000    0.79\n",
       "  1.60000000000000    0.79\n",
       "  1.70000000000000    0.80\n",
       "  1.80000000000000    0.80\n",
       "  1.90000000000000    0.81\n",
       "  2.00000000000000    0.81"
      ]
     },
     "execution_count": 20,
     "metadata": {
     },
     "output_type": "execute_result"
    }
   ],
   "source": [
    "table([(x,n((x-x^0.25)/(x-1), digits=2)) for x in [-0..2, step=.1]])"
   ]
  },
  {
   "cell_type": "code",
   "execution_count": 22,
   "metadata": {
    "collapsed": false
   },
   "outputs": [
    {
     "data": {
      "image/png": "[encoded data removed]",
      "text/plain": [
       "Graphics object consisting of 1 graphics primitive"
      ]
     },
     "execution_count": 22,
     "metadata": {
     },
     "output_type": "execute_result"
    }
   ],
   "source": [
    "plot(((x^4-1)*x^0.25)/(x-1), (x, 0, 2))"
   ]
  },
  {
   "cell_type": "code",
   "execution_count": 0,
   "metadata": {
    "collapsed": false
   },
   "outputs": [
   ],
   "source": [
   ]
  }
 ],
 "metadata": {
  "kernelspec": {
   "display_name": "SageMath 9.3",
   "language": "sagemath",
   "metadata": {
    "cocalc": {
     "description": "Open-source mathematical software system",
     "priority": 10,
     "url": "https://www.sagemath.org/"
    }
   },
   "name": "sage-9.3",
   "resource_dir": "/ext/jupyter/kernels/sage-9.3"
  }
 },
 "nbformat": 4,
 "nbformat_minor": 4
}